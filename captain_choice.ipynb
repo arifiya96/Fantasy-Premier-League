{
 "cells": [
  {
   "cell_type": "code",
   "execution_count": 1,
   "metadata": {},
   "outputs": [],
   "source": [
    "import numpy as np\n",
    "import requests \n",
    "import pandas as pd"
   ]
  },
  {
   "cell_type": "code",
   "execution_count": 2,
   "metadata": {},
   "outputs": [],
   "source": [
    "my_team_urls = ['https://fantasy.premierleague.com/api/element-summary/278/',\n",
    "                  'https://fantasy.premierleague.com/api/element-summary/8/',\n",
    "                  'https://fantasy.premierleague.com/api/element-summary/270/',\n",
    "                  'https://fantasy.premierleague.com/api/element-summary/41/',\n",
    "                  'https://fantasy.premierleague.com/api/element-summary/432/',\n",
    "                  'https://fantasy.premierleague.com/api/element-summary/391/',\n",
    "                  'https://fantasy.premierleague.com/api/element-summary/298/',\n",
    "                  'https://fantasy.premierleague.com/api/element-summary/37/',\n",
    "                  'https://fantasy.premierleague.com/api/element-summary/449/',\n",
    "                  'https://fantasy.premierleague.com/api/element-summary/390/',\n",
    "                  'https://fantasy.premierleague.com/api/element-summary/370/',\n",
    "                  'https://fantasy.premierleague.com/api/element-summary/557/',\n",
    "                  'https://fantasy.premierleague.com/api/element-summary/224/',\n",
    "                  'https://fantasy.premierleague.com/api/element-summary/388/',\n",
    "                  'https://fantasy.premierleague.com/api/element-summary/506/']"
   ]
  },
  {
   "cell_type": "code",
   "execution_count": 3,
   "metadata": {},
   "outputs": [],
   "source": [
    "my_team_players = ['Ederson','Leno','Walker','Mings','Ogbonna','Dier','Maguire','Grealish','Soucek','Son',\n",
    "                  'Ward-Prowse','Lookman','Vardy','Kane','Wilson']"
   ]
  },
  {
   "cell_type": "code",
   "execution_count": 4,
   "metadata": {},
   "outputs": [],
   "source": [
    "my_team_fixtures = []\n",
    "for player in my_team_urls:\n",
    "    player_json = requests.get(player).json()\n",
    "    my_team_fixtures.append(player_json['fixtures'][0])"
   ]
  },
  {
   "cell_type": "code",
   "execution_count": 5,
   "metadata": {},
   "outputs": [],
   "source": [
    "player_fixtures = {}\n",
    "for player in my_team_players:\n",
    "    player_fixtures[player] = []"
   ]
  },
  {
   "cell_type": "code",
   "execution_count": 6,
   "metadata": {},
   "outputs": [],
   "source": [
    "player_fixtures['Ederson'].append(my_team_fixtures[0]['difficulty'])\n",
    "player_fixtures['Ederson'].append(my_team_fixtures[0]['is_home'])\n",
    "player_fixtures['Leno'].append(my_team_fixtures[1]['difficulty'])\n",
    "player_fixtures['Leno'].append(my_team_fixtures[1]['is_home'])\n",
    "player_fixtures['Walker'].append(my_team_fixtures[2]['difficulty'])\n",
    "player_fixtures['Walker'].append(my_team_fixtures[2]['is_home'])\n",
    "player_fixtures['Mings'].append(my_team_fixtures[3]['difficulty'])\n",
    "player_fixtures['Mings'].append(my_team_fixtures[3]['is_home'])\n",
    "player_fixtures['Ogbonna'].append(my_team_fixtures[4]['difficulty'])\n",
    "player_fixtures['Ogbonna'].append(my_team_fixtures[4]['is_home'])\n",
    "player_fixtures['Dier'].append(my_team_fixtures[5]['difficulty'])\n",
    "player_fixtures['Dier'].append(my_team_fixtures[5]['is_home'])\n",
    "player_fixtures['Maguire'].append(my_team_fixtures[6]['difficulty'])\n",
    "player_fixtures['Maguire'].append(my_team_fixtures[6]['is_home'])\n",
    "player_fixtures['Grealish'].append(my_team_fixtures[7]['difficulty'])\n",
    "player_fixtures['Grealish'].append(my_team_fixtures[7]['is_home'])\n",
    "player_fixtures['Soucek'].append(my_team_fixtures[8]['difficulty'])\n",
    "player_fixtures['Soucek'].append(my_team_fixtures[8]['is_home'])\n",
    "player_fixtures['Son'].append(my_team_fixtures[9]['difficulty'])\n",
    "player_fixtures['Son'].append(my_team_fixtures[9]['is_home'])\n",
    "player_fixtures['Ward-Prowse'].append(my_team_fixtures[10]['difficulty'])\n",
    "player_fixtures['Ward-Prowse'].append(my_team_fixtures[10]['is_home'])\n",
    "player_fixtures['Lookman'].append(my_team_fixtures[11]['difficulty'])\n",
    "player_fixtures['Lookman'].append(my_team_fixtures[11]['is_home'])\n",
    "player_fixtures['Vardy'].append(my_team_fixtures[12]['difficulty'])\n",
    "player_fixtures['Vardy'].append(my_team_fixtures[12]['is_home'])\n",
    "player_fixtures['Kane'].append(my_team_fixtures[13]['difficulty'])\n",
    "player_fixtures['Kane'].append(my_team_fixtures[13]['is_home'])\n",
    "player_fixtures['Wilson'].append(my_team_fixtures[14]['difficulty'])\n",
    "player_fixtures['Wilson'].append(my_team_fixtures[14]['is_home'])"
   ]
  },
  {
   "cell_type": "code",
   "execution_count": 7,
   "metadata": {},
   "outputs": [
    {
     "data": {
      "text/plain": [
       "{'Ederson': [3, False],\n",
       " 'Leno': [3, True],\n",
       " 'Walker': [3, False],\n",
       " 'Mings': [2, True],\n",
       " 'Ogbonna': [3, True],\n",
       " 'Dier': [5, False],\n",
       " 'Maguire': [2, False],\n",
       " 'Grealish': [2, True],\n",
       " 'Soucek': [3, True],\n",
       " 'Son': [5, False],\n",
       " 'Ward-Prowse': [3, False],\n",
       " 'Lookman': [2, True],\n",
       " 'Vardy': [3, True],\n",
       " 'Kane': [5, False],\n",
       " 'Wilson': [3, False]}"
      ]
     },
     "execution_count": 7,
     "metadata": {},
     "output_type": "execute_result"
    }
   ],
   "source": [
    "player_fixtures"
   ]
  },
  {
   "cell_type": "code",
   "execution_count": 8,
   "metadata": {},
   "outputs": [
    {
     "data": {
      "text/html": [
       "<div>\n",
       "<style scoped>\n",
       "    .dataframe tbody tr th:only-of-type {\n",
       "        vertical-align: middle;\n",
       "    }\n",
       "\n",
       "    .dataframe tbody tr th {\n",
       "        vertical-align: top;\n",
       "    }\n",
       "\n",
       "    .dataframe thead th {\n",
       "        text-align: right;\n",
       "    }\n",
       "</style>\n",
       "<table border=\"1\" class=\"dataframe\">\n",
       "  <thead>\n",
       "    <tr style=\"text-align: right;\">\n",
       "      <th></th>\n",
       "      <th>Fixture Difficulty</th>\n",
       "      <th>Home</th>\n",
       "    </tr>\n",
       "  </thead>\n",
       "  <tbody>\n",
       "    <tr>\n",
       "      <th>Ederson</th>\n",
       "      <td>3</td>\n",
       "      <td>False</td>\n",
       "    </tr>\n",
       "    <tr>\n",
       "      <th>Leno</th>\n",
       "      <td>3</td>\n",
       "      <td>True</td>\n",
       "    </tr>\n",
       "    <tr>\n",
       "      <th>Walker</th>\n",
       "      <td>3</td>\n",
       "      <td>False</td>\n",
       "    </tr>\n",
       "    <tr>\n",
       "      <th>Mings</th>\n",
       "      <td>2</td>\n",
       "      <td>True</td>\n",
       "    </tr>\n",
       "    <tr>\n",
       "      <th>Ogbonna</th>\n",
       "      <td>3</td>\n",
       "      <td>True</td>\n",
       "    </tr>\n",
       "    <tr>\n",
       "      <th>Dier</th>\n",
       "      <td>5</td>\n",
       "      <td>False</td>\n",
       "    </tr>\n",
       "    <tr>\n",
       "      <th>Maguire</th>\n",
       "      <td>2</td>\n",
       "      <td>False</td>\n",
       "    </tr>\n",
       "    <tr>\n",
       "      <th>Grealish</th>\n",
       "      <td>2</td>\n",
       "      <td>True</td>\n",
       "    </tr>\n",
       "    <tr>\n",
       "      <th>Soucek</th>\n",
       "      <td>3</td>\n",
       "      <td>True</td>\n",
       "    </tr>\n",
       "    <tr>\n",
       "      <th>Son</th>\n",
       "      <td>5</td>\n",
       "      <td>False</td>\n",
       "    </tr>\n",
       "    <tr>\n",
       "      <th>Ward-Prowse</th>\n",
       "      <td>3</td>\n",
       "      <td>False</td>\n",
       "    </tr>\n",
       "    <tr>\n",
       "      <th>Lookman</th>\n",
       "      <td>2</td>\n",
       "      <td>True</td>\n",
       "    </tr>\n",
       "    <tr>\n",
       "      <th>Vardy</th>\n",
       "      <td>3</td>\n",
       "      <td>True</td>\n",
       "    </tr>\n",
       "    <tr>\n",
       "      <th>Kane</th>\n",
       "      <td>5</td>\n",
       "      <td>False</td>\n",
       "    </tr>\n",
       "    <tr>\n",
       "      <th>Wilson</th>\n",
       "      <td>3</td>\n",
       "      <td>False</td>\n",
       "    </tr>\n",
       "  </tbody>\n",
       "</table>\n",
       "</div>"
      ],
      "text/plain": [
       "            Fixture Difficulty   Home\n",
       "Ederson                      3  False\n",
       "Leno                         3   True\n",
       "Walker                       3  False\n",
       "Mings                        2   True\n",
       "Ogbonna                      3   True\n",
       "Dier                         5  False\n",
       "Maguire                      2  False\n",
       "Grealish                     2   True\n",
       "Soucek                       3   True\n",
       "Son                          5  False\n",
       "Ward-Prowse                  3  False\n",
       "Lookman                      2   True\n",
       "Vardy                        3   True\n",
       "Kane                         5  False\n",
       "Wilson                       3  False"
      ]
     },
     "execution_count": 8,
     "metadata": {},
     "output_type": "execute_result"
    }
   ],
   "source": [
    "player_fixtures_df = pd.DataFrame(player_fixtures)\n",
    "player_fixtures_df.index = ['Fixture Difficulty','Home']\n",
    "playerfixturedf = player_fixtures_df.transpose()\n",
    "playerfixturedf"
   ]
  },
  {
   "cell_type": "code",
   "execution_count": 9,
   "metadata": {},
   "outputs": [],
   "source": [
    "captain_picker = playerfixturedf[playerfixturedf.Home == True]"
   ]
  },
  {
   "cell_type": "code",
   "execution_count": 10,
   "metadata": {},
   "outputs": [
    {
     "data": {
      "text/html": [
       "<div>\n",
       "<style scoped>\n",
       "    .dataframe tbody tr th:only-of-type {\n",
       "        vertical-align: middle;\n",
       "    }\n",
       "\n",
       "    .dataframe tbody tr th {\n",
       "        vertical-align: top;\n",
       "    }\n",
       "\n",
       "    .dataframe thead th {\n",
       "        text-align: right;\n",
       "    }\n",
       "</style>\n",
       "<table border=\"1\" class=\"dataframe\">\n",
       "  <thead>\n",
       "    <tr style=\"text-align: right;\">\n",
       "      <th></th>\n",
       "      <th>Fixture Difficulty</th>\n",
       "      <th>Home</th>\n",
       "    </tr>\n",
       "  </thead>\n",
       "  <tbody>\n",
       "    <tr>\n",
       "      <th>Mings</th>\n",
       "      <td>2</td>\n",
       "      <td>True</td>\n",
       "    </tr>\n",
       "    <tr>\n",
       "      <th>Grealish</th>\n",
       "      <td>2</td>\n",
       "      <td>True</td>\n",
       "    </tr>\n",
       "    <tr>\n",
       "      <th>Lookman</th>\n",
       "      <td>2</td>\n",
       "      <td>True</td>\n",
       "    </tr>\n",
       "    <tr>\n",
       "      <th>Leno</th>\n",
       "      <td>3</td>\n",
       "      <td>True</td>\n",
       "    </tr>\n",
       "    <tr>\n",
       "      <th>Ogbonna</th>\n",
       "      <td>3</td>\n",
       "      <td>True</td>\n",
       "    </tr>\n",
       "    <tr>\n",
       "      <th>Soucek</th>\n",
       "      <td>3</td>\n",
       "      <td>True</td>\n",
       "    </tr>\n",
       "    <tr>\n",
       "      <th>Vardy</th>\n",
       "      <td>3</td>\n",
       "      <td>True</td>\n",
       "    </tr>\n",
       "  </tbody>\n",
       "</table>\n",
       "</div>"
      ],
      "text/plain": [
       "         Fixture Difficulty  Home\n",
       "Mings                     2  True\n",
       "Grealish                  2  True\n",
       "Lookman                   2  True\n",
       "Leno                      3  True\n",
       "Ogbonna                   3  True\n",
       "Soucek                    3  True\n",
       "Vardy                     3  True"
      ]
     },
     "execution_count": 10,
     "metadata": {},
     "output_type": "execute_result"
    }
   ],
   "source": [
    "captain_picker.sort_values(by=['Fixture Difficulty'])"
   ]
  },
  {
   "cell_type": "code",
   "execution_count": null,
   "metadata": {},
   "outputs": [],
   "source": []
  }
 ],
 "metadata": {
  "kernelspec": {
   "display_name": "Python 3",
   "language": "python",
   "name": "python3"
  },
  "language_info": {
   "codemirror_mode": {
    "name": "ipython",
    "version": 3
   },
   "file_extension": ".py",
   "mimetype": "text/x-python",
   "name": "python",
   "nbconvert_exporter": "python",
   "pygments_lexer": "ipython3",
   "version": "3.8.3"
  }
 },
 "nbformat": 4,
 "nbformat_minor": 4
}
